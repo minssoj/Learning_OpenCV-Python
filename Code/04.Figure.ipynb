{
 "cells": [
  {
   "cell_type": "code",
   "execution_count": 12,
   "metadata": {},
   "outputs": [],
   "source": [
    "import numpy as np\n",
    "import cv2 as cv\n",
    "import matplotlib.pyplot as plt"
   ]
  },
  {
   "cell_type": "code",
   "execution_count": 13,
   "metadata": {},
   "outputs": [],
   "source": [
    "# cv2.line()\n",
    "# cv2.circle()\n",
    "# cv2.rectangle()\n",
    "# cv2.elipse()\n",
    "# cv2.putText()"
   ]
  },
  {
   "cell_type": "code",
   "execution_count": 14,
   "metadata": {},
   "outputs": [
    {
     "data": {
      "image/png": "[encoded data removed]",
      "text/plain": [
       "<Figure size 432x288 with 1 Axes>"
      ]
     },
     "metadata": {
      "needs_background": "light"
     },
     "output_type": "display_data"
    }
   ],
   "source": [
    "def drawing():\n",
    "    img = np.zeros((512,512,3), np.uint8)\n",
    "    cv.line(img, (0,0), (511,511), (255,0,0), 5)\n",
    "    cv.rectangle(img, (384,0), (510,128), (0,255,0), 3)\n",
    "    cv.circle(img, (447,63), 63, (0,0,255),-1)\n",
    "    cv.ellipse(img, (256,256), (100, 50),0 ,0, 180, (255,0,0), -1)\n",
    "    \n",
    "    font = cv.FONT_HERSHEY_SIMPLEX\n",
    "    cv.putText(img, 'Figure', (10,500), font, 4, (255,255,255),2)\n",
    "    \n",
    "    # cv.imshow()는 jupyter에서 불가능\n",
    "    plt.imshow(img)\n",
    "    plt.show()\n",
    "    \n",
    "drawing()"
   ]
  },
  {
   "cell_type": "code",
   "execution_count": null,
   "metadata": {},
   "outputs": [],
   "source": []
  }
 ],
 "metadata": {
  "kernelspec": {
   "display_name": "Python 3",
   "language": "python",
   "name": "python3"
  },
  "language_info": {
   "codemirror_mode": {
    "name": "ipython",
    "version": 3
   },
   "file_extension": ".py",
   "mimetype": "text/x-python",
   "name": "python",
   "nbconvert_exporter": "python",
   "pygments_lexer": "ipython3",
   "version": "3.7.3"
  }
 },
 "nbformat": 4,
 "nbformat_minor": 2
}
